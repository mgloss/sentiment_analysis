{
 "cells": [
  {
   "cell_type": "code",
   "execution_count": 254,
   "metadata": {
    "collapsed": false
   },
   "outputs": [],
   "source": [
    "import pandas as pd \n",
    "import numpy as np\n",
    "\n",
    "corpus = pd.read_excel(\"FBData.xlsx\", sheetname = \"Data\")\n"
   ]
  },
  {
   "cell_type": "code",
   "execution_count": 255,
   "metadata": {
    "collapsed": true
   },
   "outputs": [],
   "source": [
    "# corpus = corpus[corpus['web'].isin(['TmobileCz','o2cz','vodafoneCZ'])]\n",
    "corpus = corpus[corpus['GOLD'].isin(['p','n',0])]\n"
   ]
  },
  {
   "cell_type": "code",
   "execution_count": 256,
   "metadata": {
    "collapsed": true
   },
   "outputs": [],
   "source": [
    "## Split randomly in training and testing\n",
    "train = corpus.sample(frac=0.8)\n",
    "test = corpus.loc[~corpus.index.isin(train.index)]"
   ]
  },
  {
   "cell_type": "code",
   "execution_count": 257,
   "metadata": {
    "collapsed": false,
    "scrolled": true
   },
   "outputs": [],
   "source": [
    "##########################################\n",
    "## Feature extraction \n",
    "##########################################\n",
    "\n",
    "from sklearn.feature_extraction.text import CountVectorizer\n",
    "\n",
    "# Import custom stop words in Czech\n",
    "\n",
    "cz_sw = pd.read_csv('cz_stop_words.txt', names = ['word'])\n",
    "\n",
    "# my_stop_words = list(cz_sw['word']) tohle nefunguje, asi nemam sloupec word?\n",
    "my_stop_words = list(cz_sw['word']) + ([\"bych\", \"taky\", \"jo\", \"no\", \"den\", \"tam\", \"sem\", \"něco\"])\n",
    "\n",
    "count_vect = CountVectorizer(analyzer='word', stop_words=my_stop_words)\n",
    "\n",
    "#count_vect = CountVectorizer(analyzer=\"word\")"
   ]
  },
  {
   "cell_type": "code",
   "execution_count": 258,
   "metadata": {
    "collapsed": false
   },
   "outputs": [
    {
     "data": {
      "text/html": [
       "<div>\n",
       "<table border=\"1\" class=\"dataframe\">\n",
       "  <thead>\n",
       "    <tr style=\"text-align: right;\">\n",
       "      <th></th>\n",
       "      <th>word</th>\n",
       "    </tr>\n",
       "  </thead>\n",
       "  <tbody>\n",
       "    <tr>\n",
       "      <th>0</th>\n",
       "      <td>a</td>\n",
       "    </tr>\n",
       "    <tr>\n",
       "      <th>1</th>\n",
       "      <td>a sice</td>\n",
       "    </tr>\n",
       "    <tr>\n",
       "      <th>2</th>\n",
       "      <td>a to</td>\n",
       "    </tr>\n",
       "    <tr>\n",
       "      <th>3</th>\n",
       "      <td>aby</td>\n",
       "    </tr>\n",
       "    <tr>\n",
       "      <th>4</th>\n",
       "      <td>aj</td>\n",
       "    </tr>\n",
       "    <tr>\n",
       "      <th>5</th>\n",
       "      <td>ale</td>\n",
       "    </tr>\n",
       "    <tr>\n",
       "      <th>6</th>\n",
       "      <td>ani</td>\n",
       "    </tr>\n",
       "    <tr>\n",
       "      <th>7</th>\n",
       "      <td>aniz</td>\n",
       "    </tr>\n",
       "    <tr>\n",
       "      <th>8</th>\n",
       "      <td>aniž</td>\n",
       "    </tr>\n",
       "    <tr>\n",
       "      <th>9</th>\n",
       "      <td>ano</td>\n",
       "    </tr>\n",
       "  </tbody>\n",
       "</table>\n",
       "</div>"
      ],
      "text/plain": [
       "     word\n",
       "0       a\n",
       "1  a sice\n",
       "2    a to\n",
       "3     aby\n",
       "4      aj\n",
       "5     ale\n",
       "6     ani\n",
       "7    aniz\n",
       "8    aniž\n",
       "9     ano"
      ]
     },
     "execution_count": 258,
     "metadata": {},
     "output_type": "execute_result"
    }
   ],
   "source": [
    "# cz_sw = pd.read_csv('cz_stop_words.txt')\n",
    "cz_sw.head(10)"
   ]
  },
  {
   "cell_type": "code",
   "execution_count": null,
   "metadata": {
    "collapsed": true
   },
   "outputs": [],
   "source": []
  },
  {
   "cell_type": "code",
   "execution_count": null,
   "metadata": {
    "collapsed": true
   },
   "outputs": [],
   "source": []
  },
  {
   "cell_type": "code",
   "execution_count": null,
   "metadata": {
    "collapsed": true
   },
   "outputs": [],
   "source": []
  },
  {
   "cell_type": "code",
   "execution_count": 259,
   "metadata": {
    "collapsed": false
   },
   "outputs": [],
   "source": [
    "#  Different methods of counting word frequency\n",
    "X_train_counts = count_vect.fit_transform(train['Text'])\n"
   ]
  },
  {
   "cell_type": "code",
   "execution_count": 260,
   "metadata": {
    "collapsed": true
   },
   "outputs": [],
   "source": [
    "## Label encoder\n",
    "from sklearn.preprocessing import LabelEncoder"
   ]
  },
  {
   "cell_type": "code",
   "execution_count": 261,
   "metadata": {
    "collapsed": true
   },
   "outputs": [],
   "source": [
    "le  = LabelEncoder()\n",
    "y_train = le.fit_transform(train['GOLD'].astype(str))"
   ]
  },
  {
   "cell_type": "code",
   "execution_count": 262,
   "metadata": {
    "collapsed": true
   },
   "outputs": [],
   "source": [
    "\n",
    "##########################################\n",
    "## Training the model\n",
    "##########################################\n",
    "\n",
    "\n",
    "from sklearn.naive_bayes import MultinomialNB"
   ]
  },
  {
   "cell_type": "code",
   "execution_count": 263,
   "metadata": {
    "collapsed": true
   },
   "outputs": [],
   "source": [
    "clf = MultinomialNB().fit(X_train_counts, y_train)"
   ]
  },
  {
   "cell_type": "code",
   "execution_count": 264,
   "metadata": {
    "collapsed": true
   },
   "outputs": [],
   "source": [
    "# Convert to matrix form the test data\n",
    "X_test = count_vect.transform(test['Text'])\n",
    "y_test = le.transform(test['GOLD'].astype(str))"
   ]
  },
  {
   "cell_type": "code",
   "execution_count": 265,
   "metadata": {
    "collapsed": true
   },
   "outputs": [],
   "source": [
    "y_preds = clf.predict(X_test)"
   ]
  },
  {
   "cell_type": "code",
   "execution_count": 266,
   "metadata": {
    "collapsed": false
   },
   "outputs": [
    {
     "name": "stdout",
     "output_type": "stream",
     "text": [
      "             precision    recall  f1-score   support\n",
      "\n",
      "          0       0.68      0.87      0.76      1026\n",
      "          1       0.62      0.28      0.38       416\n",
      "          2       0.76      0.67      0.71       508\n",
      "\n",
      "avg / total       0.69      0.69      0.67      1950\n",
      "\n"
     ]
    }
   ],
   "source": [
    "from sklearn.metrics import classification_report\n",
    "print(classification_report(y_test, y_preds))"
   ]
  },
  {
   "cell_type": "code",
   "execution_count": 267,
   "metadata": {
    "collapsed": true
   },
   "outputs": [],
   "source": [
    "##########################################\n",
    "## Interpreting model results\n",
    "##########################################\n",
    "\n",
    "def print_topn(vect, clf, class_labels, n=10):\n",
    "    feature_names = vect.get_feature_names()\n",
    "    for i, class_label in enumerate(class_labels):\n",
    "        topn= np.argsort(clf.coef_[i])[-n:]\n",
    "        print(\"%s: %s \"% (class_label,\n",
    "              \" \".join(feature_names[j] for j in topn)))"
   ]
  },
  {
   "cell_type": "code",
   "execution_count": 268,
   "metadata": {
    "collapsed": false
   },
   "outputs": [
    {
     "name": "stdout",
     "output_type": "stream",
     "text": [
      "0: třeba sms ti nevím tady kolik odpověď telefon chci moc o2 jestli někdo zeptat kdy díky prosím děkuji mám dobrý \n",
      "n: vás stále nikdy nikdo mobile vůbec fakt pořád vodafone nefunguje ti teda zase teď někdo nejde tady mám o2 moc \n",
      "p: miluju krásná krásný zoo líbí fakt děkuju dobře hned hodně přeji krásné opravdu vůně nejlepší díky mám super děkuji moc \n"
     ]
    }
   ],
   "source": [
    "# Show important words\n",
    "print_topn(count_vect, clf, le.classes_, n=20)"
   ]
  },
  {
   "cell_type": "code",
   "execution_count": 245,
   "metadata": {
    "collapsed": true
   },
   "outputs": [],
   "source": [
    "##########################################################################\n",
    "## YOUR TURN:\n",
    "## 0. Filter out some words that make no sense (for instance \"bych\" above)    \n",
    "## 1. Read your table \n",
    "## 2. Apply count_vect.transform to the column that has the comments\n",
    "## 3. Score the model. You can use clf.predict on the vectorized data frame\n",
    "## 4. Save the dataframe and load it back into Keboola. \n",
    "##      The resulting dataframe should have columns \n",
    "##      operator|message|sentiment.\n",
    "##    To transform back the labels of the model into our labels, \n",
    "##    you can use le.inverse_transform    \n",
    "##########################################################################"
   ]
  },
  {
   "cell_type": "code",
   "execution_count": 271,
   "metadata": {
    "collapsed": false
   },
   "outputs": [],
   "source": [
    "o2 = pd.read_csv(\"Czechitas/commentsO2_clean.csv\", encoding = \"UTF-8\", sep=';')\n",
    "o2['message'] = o2['message'].fillna('a')\n",
    "X_o2 = count_vect.transform(o2['message'])\n",
    "o2_preds = clf.predict(X_o2)\n",
    "o2['prediction'] = le.inverse_transform(o2_preds)\n",
    "o2_final = pd.DataFrame(o2, columns =['operator', 'created_time', 'message', 'likes_count', 'comments_count','prediction'])\n",
    "o2_final['operator'] = 'o2'\n"
   ]
  },
  {
   "cell_type": "code",
   "execution_count": 272,
   "metadata": {
    "collapsed": true
   },
   "outputs": [],
   "source": [
    "tm = pd.read_csv(\"Czechitas/commentsTM_clean.csv\", encoding = \"UTF-8\", sep=';')\n",
    "tm['message'] = tm['message'].fillna('a')\n",
    "X_tm = count_vect.transform(tm['message'])\n",
    "tm_preds = clf.predict(X_tm)\n",
    "tm['prediction'] = le.inverse_transform(tm_preds)\n",
    "tm_final = pd.DataFrame(tm, columns =['operator', 'created_time', 'message', 'likes_count', 'comments_count','prediction'])\n",
    "tm_final['operator'] = 'tm'"
   ]
  },
  {
   "cell_type": "code",
   "execution_count": 273,
   "metadata": {
    "collapsed": true
   },
   "outputs": [],
   "source": [
    "vf = pd.read_csv(\"Czechitas/commentsVF_clean.csv\", encoding = \"UTF-8\", sep=';')\n",
    "vf['message'] = vf['message'].fillna('a')\n",
    "X_vf = count_vect.transform(vf['message'])\n",
    "vf_preds = clf.predict(X_vf)\n",
    "vf['prediction'] = le.inverse_transform(vf_preds)\n",
    "vf_final = pd.DataFrame(vf, columns =['operator', 'created_time', 'message', 'likes_count', 'comments_count','prediction'])\n",
    "vf_final['operator'] = 'vf'"
   ]
  },
  {
   "cell_type": "code",
   "execution_count": 280,
   "metadata": {
    "collapsed": false
   },
   "outputs": [
    {
     "data": {
      "text/html": [
       "<div>\n",
       "<table border=\"1\" class=\"dataframe\">\n",
       "  <thead>\n",
       "    <tr style=\"text-align: right;\">\n",
       "      <th></th>\n",
       "      <th>operator</th>\n",
       "      <th>created_time</th>\n",
       "      <th>message</th>\n",
       "      <th>likes_count</th>\n",
       "      <th>comments_count</th>\n",
       "      <th>prediction</th>\n",
       "    </tr>\n",
       "  </thead>\n",
       "  <tbody>\n",
       "    <tr>\n",
       "      <th>0</th>\n",
       "      <td>o2</td>\n",
       "      <td>2014-01-13T16:06:49+0000</td>\n",
       "      <td>FREE tarif bez internetu by se mi líbil daleko...</td>\n",
       "      <td>5</td>\n",
       "      <td>0</td>\n",
       "      <td>0</td>\n",
       "    </tr>\n",
       "    <tr>\n",
       "      <th>1</th>\n",
       "      <td>o2</td>\n",
       "      <td>2014-01-13T16:08:19+0000</td>\n",
       "      <td>alespon neco, když už je to tak drahý... :D</td>\n",
       "      <td>4</td>\n",
       "      <td>0</td>\n",
       "      <td>n</td>\n",
       "    </tr>\n",
       "    <tr>\n",
       "      <th>2</th>\n",
       "      <td>o2</td>\n",
       "      <td>2014-01-13T16:08:32+0000</td>\n",
       "      <td>Ehh to je fakt odvaz 1,5GB v dobe fullhd YouTu...</td>\n",
       "      <td>14</td>\n",
       "      <td>0</td>\n",
       "      <td>0</td>\n",
       "    </tr>\n",
       "    <tr>\n",
       "      <th>3</th>\n",
       "      <td>o2</td>\n",
       "      <td>2014-01-13T16:09:41+0000</td>\n",
       "      <td>hm ješte kdyby to bylo tak za 400kc mesícne kd...</td>\n",
       "      <td>5</td>\n",
       "      <td>0</td>\n",
       "      <td>0</td>\n",
       "    </tr>\n",
       "    <tr>\n",
       "      <th>4</th>\n",
       "      <td>o2</td>\n",
       "      <td>2014-01-13T16:12:20+0000</td>\n",
       "      <td>Lepší jak nic :) Dekuji za 0.5GB navíc :)</td>\n",
       "      <td>5</td>\n",
       "      <td>0</td>\n",
       "      <td>0</td>\n",
       "    </tr>\n",
       "  </tbody>\n",
       "</table>\n",
       "</div>"
      ],
      "text/plain": [
       "  operator              created_time  \\\n",
       "0       o2  2014-01-13T16:06:49+0000   \n",
       "1       o2  2014-01-13T16:08:19+0000   \n",
       "2       o2  2014-01-13T16:08:32+0000   \n",
       "3       o2  2014-01-13T16:09:41+0000   \n",
       "4       o2  2014-01-13T16:12:20+0000   \n",
       "\n",
       "                                             message  likes_count  \\\n",
       "0  FREE tarif bez internetu by se mi líbil daleko...            5   \n",
       "1        alespon neco, když už je to tak drahý... :D            4   \n",
       "2  Ehh to je fakt odvaz 1,5GB v dobe fullhd YouTu...           14   \n",
       "3  hm ješte kdyby to bylo tak za 400kc mesícne kd...            5   \n",
       "4          Lepší jak nic :) Dekuji za 0.5GB navíc :)            5   \n",
       "\n",
       "   comments_count prediction  \n",
       "0               0          0  \n",
       "1               0          n  \n",
       "2               0          0  \n",
       "3               0          0  \n",
       "4               0          0  "
      ]
     },
     "execution_count": 280,
     "metadata": {},
     "output_type": "execute_result"
    }
   ],
   "source": [
    "dfUnionAll = pd.concat([o2_final, tm_final, vf_final], ignore_index=True)\n",
    "dfUnionAll.head()"
   ]
  },
  {
   "cell_type": "code",
   "execution_count": 281,
   "metadata": {
    "collapsed": false
   },
   "outputs": [],
   "source": [
    "sentiment = pd.concat([o2_final, tm_final, vf_final], ignore_index=True)\n",
    "\n",
    "sentiment.to_csv('sentiment.csv', encoding='utf-8', sep=\";\")"
   ]
  },
  {
   "cell_type": "code",
   "execution_count": 282,
   "metadata": {
    "collapsed": false
   },
   "outputs": [],
   "source": [
    "sentiment['id'] = range(1, len(sentiment) + 1)\n",
    "sentiment.to_csv('sentiment2.csv', encoding='utf-8', sep=\";\")"
   ]
  },
  {
   "cell_type": "code",
   "execution_count": null,
   "metadata": {
    "collapsed": true
   },
   "outputs": [],
   "source": []
  },
  {
   "cell_type": "code",
   "execution_count": 250,
   "metadata": {
    "collapsed": false
   },
   "outputs": [],
   "source": [
    "# o2.to_csv('o2_sentiment5.csv', encoding='utf-8', sep=\";\")\n"
   ]
  },
  {
   "cell_type": "code",
   "execution_count": 63,
   "metadata": {
    "collapsed": false
   },
   "outputs": [],
   "source": [
    "# prevest na normalni datum\n",
    "import datetime, dateutil.parser\n",
    "\n",
    "d = dateutil.parser.parse('2008-09-26T01:51:42.000Z')\n",
    "print d.strftime('%m/%d/%Y') #==> '09/26/2008'\n"
   ]
  },
  {
   "cell_type": "code",
   "execution_count": 64,
   "metadata": {
    "collapsed": false
   },
   "outputs": [],
   "source": []
  },
  {
   "cell_type": "code",
   "execution_count": 67,
   "metadata": {
    "collapsed": false
   },
   "outputs": [
    {
     "name": "stderr",
     "output_type": "stream",
     "text": [
      "c:\\czechitas\\digitalacademy\\venv\\lib\\site-packages\\xlsxwriter\\worksheet.py:830: UserWarning: Ignoring URL 'http://www.tqtest.cz/vysledek/tq53fb6a23291819251%20%20Nevim%20no,,%20hodil%20by%20se%20seznam%20spravnych%20odpovedi..%20nevim%20co%20z%20toho%20jsem%20jakoby%20nevedel..%20maximalne,%20ze%20nesedi%20seznam%20z%20alephu%20vs%20knihovna%20na%20pocet%20titulu..%20nebo%20goole%20navigace%20bere%20jinou%20trasu%20do%20zitenic%20(ci%20jak%20se%20menovalo%20to%20mesto)' with link or location/anchor > 255 characters since it exceeds Excel's limit for URLS\n",
      "  force_unicode(url))\n",
      "c:\\czechitas\\digitalacademy\\venv\\lib\\site-packages\\xlsxwriter\\worksheet.py:830: UserWarning: Ignoring URL 'http://hugo.uk.zcu.cz/F?RN=371683162%20%20The%20server%20is%20temporarily%20unable%20to%20service%20your%20request%20due%20to%20maintenance%20downtime%20or%20capacity%20problems.%20Please%20try%20again%20later.%20%20Apache/2.0.61%20(Unix)%20mod_ssl/2.0.61%20OpenSSL/0.9.8g%20mod_perl/2.0.2%20Perl/v5.8.8%20Server%20at%20hugo.uk.zcu.cz%20Port%2080' with link or location/anchor > 255 characters since it exceeds Excel's limit for URLS\n",
      "  force_unicode(url))\n",
      "c:\\czechitas\\digitalacademy\\venv\\lib\\site-packages\\xlsxwriter\\worksheet.py:830: UserWarning: Ignoring URL 'http://www.speedtest.net/my-result/3906440232%20myslím%20že%20Vaše%20služby%20v%20oblasti%20poskytování%20pripojení%20k%20internetu%20jsou%20zlodejina!%20tohle%20je%20ve%20Vaší%20cenové%20relaci..a%20ted%20mi%20povezte%20co%20bych%20s%20Vámi%20asi%20tak%20ušetril...' with link or location/anchor > 255 characters since it exceeds Excel's limit for URLS\n",
      "  force_unicode(url))\n",
      "c:\\czechitas\\digitalacademy\\venv\\lib\\site-packages\\xlsxwriter\\worksheet.py:830: UserWarning: Ignoring URL 'http://www.slevici.cz/detail-slevy/unorova-naloz-sushi-pro-ostravu-uz-jede-pratele-velke-menu-pro-dva-ktere-rozzari-vas-zimni-den-za-paradni-cenu-490-kc-3810?utm_source=partneri&utm_medium=fbocfuturum&utm_campaign=sushiostrava022015http://www.slevici.cz/detail-slevy/unorova-naloz-sushi-pro-ostravu-uz-jede-pratele-velke-menu-pro-dva-ktere-rozzari-vas-zimni-den-za-paradni-cenu-490-kc-3810?utm_source=partneri&utm_medium=fbocfuturum&utm_campaign=sushiostrava022015' with link or location/anchor > 255 characters since it exceeds Excel's limit for URLS\n",
      "  force_unicode(url))\n",
      "c:\\czechitas\\digitalacademy\\venv\\lib\\site-packages\\xlsxwriter\\worksheet.py:830: UserWarning: Ignoring URL 'https://www.google.cz/search?q=mercedes+suv&biw=1920&bih=945&tbm=isch&imgil=0Mqox3oC9ob1iM%253A%253BzgFxy8NI34uiCM%253Bhttp%25253A%25252F%25252Fcarmagz.info%25252Fcars%25252Fnew-mercedes-suvs-2015-2016-mercedes-benz-suv-prices&source=iu&pf=m&fir=0Mqox3oC9ob1iM%253A%252CzgFxy8NI34uiCM%252C_&usg=__vXbJG3k_0a05lRncmyM4BPn7YUw%3D&ved=0CEAQyjc&ei=W_3YVN3FDYm7UZ_Ng5gF' with link or location/anchor > 255 characters since it exceeds Excel's limit for URLS\n",
      "  force_unicode(url))\n",
      "c:\\czechitas\\digitalacademy\\venv\\lib\\site-packages\\xlsxwriter\\worksheet.py:830: UserWarning: Ignoring URL 'https://www.google.cz/search?q=samsung+galaxy+s6+.us&es_sm=122&biw=1366&bih=643&source=lnms&tbm=isch&sa=X&ei=6jbyVMOfLIGjUtSJgXg&ved=0CAYQ_AUoAQ' with link or location/anchor > 255 characters since it exceeds Excel's limit for URLS\n",
      "  force_unicode(url))\n",
      "c:\\czechitas\\digitalacademy\\venv\\lib\\site-packages\\xlsxwriter\\worksheet.py:830: UserWarning: Ignoring URL 'http://www.speedtest.net/my-result/5803143741%20Ale%20jo,sic%20jsem%20taky%20brblal%20v%20návaznosti%20na%20zrychlování%20pevného%20internetu%20ve%20Vánocní%20akci%20ale%20nakonec%20jsem%20si%20uvedomil%20že%20mi%20to%20vlastne%20na%20bežné%20používání%20dostacuje.rychlejší%20internet%20jsem%20prozatím%20nemel..:-)' with link or location/anchor > 255 characters since it exceeds Excel's limit for URLS\n",
      "  force_unicode(url))\n"
     ]
    }
   ],
   "source": [
    "o2['predictions'] = o2_preds\n",
    "\n",
    "import xlsxwriter\n",
    "writer = pd.ExcelWriter('o2_comments.xlsx', engine='xlsxwriter')\n",
    "\n",
    "# Convert the dataframe to an XlsxWriter Excel object.\n",
    "o2.to_excel(writer, sheet_name='Sheet1')\n",
    "\n",
    "# Close the Pandas Excel writer and output the Excel file.\n",
    "writer.save()\n"
   ]
  },
  {
   "cell_type": "code",
   "execution_count": 40,
   "metadata": {
    "collapsed": false
   },
   "outputs": [
    {
     "ename": "NameError",
     "evalue": "name 'tm_comments' is not defined",
     "output_type": "error",
     "traceback": [
      "\u001b[0;31m---------------------------------------------------------------------------\u001b[0m",
      "\u001b[0;31mNameError\u001b[0m                                 Traceback (most recent call last)",
      "\u001b[0;32m<ipython-input-40-4b553084f005>\u001b[0m in \u001b[0;36m<module>\u001b[0;34m()\u001b[0m\n\u001b[0;32m----> 1\u001b[0;31m \u001b[0mX_tm\u001b[0m \u001b[1;33m=\u001b[0m \u001b[0mcount_vect\u001b[0m\u001b[1;33m.\u001b[0m\u001b[0mtransform\u001b[0m\u001b[1;33m(\u001b[0m\u001b[0mtm_comments\u001b[0m\u001b[1;33m[\u001b[0m\u001b[1;34m'message'\u001b[0m\u001b[1;33m]\u001b[0m\u001b[1;33m)\u001b[0m\u001b[1;33m\u001b[0m\u001b[0m\n\u001b[0m\u001b[1;32m      2\u001b[0m \u001b[1;33m\u001b[0m\u001b[0m\n\u001b[1;32m      3\u001b[0m \u001b[0mtm_preds\u001b[0m \u001b[1;33m=\u001b[0m \u001b[0mclf\u001b[0m\u001b[1;33m.\u001b[0m\u001b[0mpredict\u001b[0m\u001b[1;33m(\u001b[0m\u001b[0mX_tm\u001b[0m\u001b[1;33m)\u001b[0m\u001b[1;33m\u001b[0m\u001b[0m\n\u001b[1;32m      4\u001b[0m \u001b[1;33m\u001b[0m\u001b[0m\n\u001b[1;32m      5\u001b[0m \u001b[0mtm_comments\u001b[0m\u001b[1;33m[\u001b[0m\u001b[1;34m'predictions'\u001b[0m\u001b[1;33m]\u001b[0m \u001b[1;33m=\u001b[0m \u001b[0mtm_preds\u001b[0m\u001b[1;33m\u001b[0m\u001b[0m\n",
      "\u001b[0;31mNameError\u001b[0m: name 'tm_comments' is not defined"
     ]
    }
   ],
   "source": []
  },
  {
   "cell_type": "code",
   "execution_count": 68,
   "metadata": {
    "collapsed": true
   },
   "outputs": [],
   "source": []
  },
  {
   "cell_type": "code",
   "execution_count": 76,
   "metadata": {
    "collapsed": false
   },
   "outputs": [
    {
     "ename": "IndexError",
     "evalue": "invalid index",
     "output_type": "error",
     "traceback": [
      "\u001b[0;31m---------------------------------------------------------------------------\u001b[0m",
      "\u001b[0;31mValueError\u001b[0m                                Traceback (most recent call last)",
      "\u001b[0;32mc:\\czechitas\\digitalacademy\\venv\\lib\\site-packages\\scipy\\sparse\\csr.py\u001b[0m in \u001b[0;36masindices\u001b[0;34m(x)\u001b[0m\n\u001b[1;32m    243\u001b[0m                 \u001b[1;32mif\u001b[0m \u001b[0midx_dtype\u001b[0m \u001b[1;33m!=\u001b[0m \u001b[0mx\u001b[0m\u001b[1;33m.\u001b[0m\u001b[0mdtype\u001b[0m\u001b[1;33m:\u001b[0m\u001b[1;33m\u001b[0m\u001b[0m\n\u001b[0;32m--> 244\u001b[0;31m                     \u001b[0mx\u001b[0m \u001b[1;33m=\u001b[0m \u001b[0mx\u001b[0m\u001b[1;33m.\u001b[0m\u001b[0mastype\u001b[0m\u001b[1;33m(\u001b[0m\u001b[0midx_dtype\u001b[0m\u001b[1;33m)\u001b[0m\u001b[1;33m\u001b[0m\u001b[0m\n\u001b[0m\u001b[1;32m    245\u001b[0m             \u001b[1;32mexcept\u001b[0m\u001b[1;33m:\u001b[0m\u001b[1;33m\u001b[0m\u001b[0m\n",
      "\u001b[0;31mValueError\u001b[0m: invalid literal for int() with base 10: 'm'",
      "\nDuring handling of the above exception, another exception occurred:\n",
      "\u001b[0;31mIndexError\u001b[0m                                Traceback (most recent call last)",
      "\u001b[0;32m<ipython-input-76-620807d1538d>\u001b[0m in \u001b[0;36m<module>\u001b[0;34m()\u001b[0m\n\u001b[0;32m----> 1\u001b[0;31m \u001b[0mX_train_counts\u001b[0m\u001b[1;33m[\u001b[0m\u001b[1;34m'message'\u001b[0m\u001b[1;33m[\u001b[0m\u001b[1;36m0\u001b[0m\u001b[1;33m]\u001b[0m\u001b[1;33m]\u001b[0m\u001b[1;33m\u001b[0m\u001b[0m\n\u001b[0m\u001b[1;32m      2\u001b[0m \u001b[1;31m# y_train[0]\u001b[0m\u001b[1;33m\u001b[0m\u001b[1;33m\u001b[0m\u001b[0m\n",
      "\u001b[0;32mc:\\czechitas\\digitalacademy\\venv\\lib\\site-packages\\scipy\\sparse\\csr.py\u001b[0m in \u001b[0;36m__getitem__\u001b[0;34m(self, key)\u001b[0m\n\u001b[1;32m    333\u001b[0m             \u001b[0mrow\u001b[0m\u001b[1;33m,\u001b[0m \u001b[0mcol\u001b[0m \u001b[1;33m=\u001b[0m \u001b[0mself\u001b[0m\u001b[1;33m.\u001b[0m\u001b[0m_index_to_arrays\u001b[0m\u001b[1;33m(\u001b[0m\u001b[0mrow\u001b[0m\u001b[1;33m,\u001b[0m \u001b[0mcol\u001b[0m\u001b[1;33m)\u001b[0m\u001b[1;33m\u001b[0m\u001b[0m\n\u001b[1;32m    334\u001b[0m \u001b[1;33m\u001b[0m\u001b[0m\n\u001b[0;32m--> 335\u001b[0;31m         \u001b[0mrow\u001b[0m \u001b[1;33m=\u001b[0m \u001b[0masindices\u001b[0m\u001b[1;33m(\u001b[0m\u001b[0mrow\u001b[0m\u001b[1;33m)\u001b[0m\u001b[1;33m\u001b[0m\u001b[0m\n\u001b[0m\u001b[1;32m    336\u001b[0m         \u001b[0mcol\u001b[0m \u001b[1;33m=\u001b[0m \u001b[0masindices\u001b[0m\u001b[1;33m(\u001b[0m\u001b[0mcol\u001b[0m\u001b[1;33m)\u001b[0m\u001b[1;33m\u001b[0m\u001b[0m\n\u001b[1;32m    337\u001b[0m         \u001b[1;32mif\u001b[0m \u001b[0mrow\u001b[0m\u001b[1;33m.\u001b[0m\u001b[0mshape\u001b[0m \u001b[1;33m!=\u001b[0m \u001b[0mcol\u001b[0m\u001b[1;33m.\u001b[0m\u001b[0mshape\u001b[0m\u001b[1;33m:\u001b[0m\u001b[1;33m\u001b[0m\u001b[0m\n",
      "\u001b[0;32mc:\\czechitas\\digitalacademy\\venv\\lib\\site-packages\\scipy\\sparse\\csr.py\u001b[0m in \u001b[0;36masindices\u001b[0;34m(x)\u001b[0m\n\u001b[1;32m    244\u001b[0m                     \u001b[0mx\u001b[0m \u001b[1;33m=\u001b[0m \u001b[0mx\u001b[0m\u001b[1;33m.\u001b[0m\u001b[0mastype\u001b[0m\u001b[1;33m(\u001b[0m\u001b[0midx_dtype\u001b[0m\u001b[1;33m)\u001b[0m\u001b[1;33m\u001b[0m\u001b[0m\n\u001b[1;32m    245\u001b[0m             \u001b[1;32mexcept\u001b[0m\u001b[1;33m:\u001b[0m\u001b[1;33m\u001b[0m\u001b[0m\n\u001b[0;32m--> 246\u001b[0;31m                 \u001b[1;32mraise\u001b[0m \u001b[0mIndexError\u001b[0m\u001b[1;33m(\u001b[0m\u001b[1;34m'invalid index'\u001b[0m\u001b[1;33m)\u001b[0m\u001b[1;33m\u001b[0m\u001b[0m\n\u001b[0m\u001b[1;32m    247\u001b[0m             \u001b[1;32melse\u001b[0m\u001b[1;33m:\u001b[0m\u001b[1;33m\u001b[0m\u001b[0m\n\u001b[1;32m    248\u001b[0m                 \u001b[1;32mreturn\u001b[0m \u001b[0mx\u001b[0m\u001b[1;33m\u001b[0m\u001b[0m\n",
      "\u001b[0;31mIndexError\u001b[0m: invalid index"
     ]
    }
   ],
   "source": []
  },
  {
   "cell_type": "code",
   "execution_count": 78,
   "metadata": {
    "collapsed": false,
    "scrolled": true
   },
   "outputs": [
    {
     "ename": "NameError",
     "evalue": "name 'class_labels' is not defined",
     "output_type": "error",
     "traceback": [
      "\u001b[0;31m---------------------------------------------------------------------------\u001b[0m",
      "\u001b[0;31mNameError\u001b[0m                                 Traceback (most recent call last)",
      "\u001b[0;32m<ipython-input-78-3f88ac2790f9>\u001b[0m in \u001b[0;36m<module>\u001b[0;34m()\u001b[0m\n\u001b[0;32m----> 1\u001b[0;31m \u001b[0mprint\u001b[0m\u001b[1;33m(\u001b[0m\u001b[0mclass_labels\u001b[0m\u001b[1;33m)\u001b[0m\u001b[1;33m\u001b[0m\u001b[0m\n\u001b[0m\u001b[1;32m      2\u001b[0m \u001b[1;33m\u001b[0m\u001b[0m\n",
      "\u001b[0;31mNameError\u001b[0m: name 'class_labels' is not defined"
     ]
    }
   ],
   "source": [
    "##########################################\n",
    "## Feature extraction \n",
    "##########################################\n",
    "\n",
    "from sklearn.feature_extraction.text import CountVectorizer\n",
    "\n",
    "# Import custom stop words in Czech\n",
    "\n",
    "cz_sw = pd.read_csv('cz_stop_words.txt', names = ['word'])\n",
    "\n",
    "# my_stop_words = list(cz_sw['word']) tohle nefunguje, asi nemam sloupec word?\n",
    "my_stop_words = list(cz_sw['word']) + (['tam', \"den\", \"mám\", \"mam\", \"jo\", \"bych\", \"no\", \"vůně\", \"zoo\", \"zase\", \"sem\"])\n",
    "\n",
    "count_vect = CountVectorizer(analyzer='word', stop_words=my_stop_words)\n",
    "\n",
    "#count_vect = CountVectorizer(analyzer=\"word\")\n",
    "\n",
    "# yaloha"
   ]
  },
  {
   "cell_type": "code",
   "execution_count": 247,
   "metadata": {
    "collapsed": false
   },
   "outputs": [
    {
     "data": {
      "text/html": [
       "<div>\n",
       "<table border=\"1\" class=\"dataframe\">\n",
       "  <thead>\n",
       "    <tr style=\"text-align: right;\">\n",
       "      <th></th>\n",
       "      <th>from_id</th>\n",
       "      <th>from_name</th>\n",
       "      <th>message</th>\n",
       "      <th>created_time</th>\n",
       "      <th>likes_count</th>\n",
       "      <th>comments_count</th>\n",
       "      <th>id</th>\n",
       "    </tr>\n",
       "  </thead>\n",
       "  <tbody>\n",
       "    <tr>\n",
       "      <th>0</th>\n",
       "      <td>1655155837834881</td>\n",
       "      <td>Miroslav Pleskot</td>\n",
       "      <td>FREE tarif bez internetu by se mi líbil daleko...</td>\n",
       "      <td>2014-01-13T16:06:49+0000</td>\n",
       "      <td>5</td>\n",
       "      <td>0</td>\n",
       "      <td>659919047380028_1982999</td>\n",
       "    </tr>\n",
       "    <tr>\n",
       "      <th>1</th>\n",
       "      <td>1103097663153070</td>\n",
       "      <td>Alena Matišcáková</td>\n",
       "      <td>alespon neco, když už je to tak drahý... :D</td>\n",
       "      <td>2014-01-13T16:08:19+0000</td>\n",
       "      <td>4</td>\n",
       "      <td>0</td>\n",
       "      <td>659919047380028_1983002</td>\n",
       "    </tr>\n",
       "    <tr>\n",
       "      <th>2</th>\n",
       "      <td>10212111270199918</td>\n",
       "      <td>Tomáš Novotný</td>\n",
       "      <td>Ehh to je fakt odvaz 1,5GB v dobe fullhd YouTu...</td>\n",
       "      <td>2014-01-13T16:08:32+0000</td>\n",
       "      <td>14</td>\n",
       "      <td>0</td>\n",
       "      <td>659919047380028_1983003</td>\n",
       "    </tr>\n",
       "    <tr>\n",
       "      <th>3</th>\n",
       "      <td>1423701194318386</td>\n",
       "      <td>Daniel Prell</td>\n",
       "      <td>hm ješte kdyby to bylo tak za 400kc mesícne kd...</td>\n",
       "      <td>2014-01-13T16:09:41+0000</td>\n",
       "      <td>5</td>\n",
       "      <td>0</td>\n",
       "      <td>659919047380028_1983010</td>\n",
       "    </tr>\n",
       "    <tr>\n",
       "      <th>4</th>\n",
       "      <td>10208934700671278</td>\n",
       "      <td>Tomáš Valder</td>\n",
       "      <td>Lepší jak nic :) Dekuji za 0.5GB navíc :)</td>\n",
       "      <td>2014-01-13T16:12:20+0000</td>\n",
       "      <td>5</td>\n",
       "      <td>0</td>\n",
       "      <td>659919047380028_1983016</td>\n",
       "    </tr>\n",
       "    <tr>\n",
       "      <th>5</th>\n",
       "      <td>1625346820813591</td>\n",
       "      <td>Martin Machata</td>\n",
       "      <td>K smichu :)))</td>\n",
       "      <td>2014-01-13T16:14:55+0000</td>\n",
       "      <td>2</td>\n",
       "      <td>0</td>\n",
       "      <td>659919047380028_1983022</td>\n",
       "    </tr>\n",
       "    <tr>\n",
       "      <th>6</th>\n",
       "      <td>10208495524245992</td>\n",
       "      <td>Jan Sedlácek</td>\n",
       "      <td>super:))</td>\n",
       "      <td>2014-01-13T16:15:26+0000</td>\n",
       "      <td>2</td>\n",
       "      <td>0</td>\n",
       "      <td>659919047380028_1983023</td>\n",
       "    </tr>\n",
       "    <tr>\n",
       "      <th>7</th>\n",
       "      <td>1119754194817221</td>\n",
       "      <td>Honza Vána</td>\n",
       "      <td>Super :-)  me by zajímalo kdy už bude LTE dost...</td>\n",
       "      <td>2014-01-13T16:16:19+0000</td>\n",
       "      <td>5</td>\n",
       "      <td>0</td>\n",
       "      <td>659919047380028_1983026</td>\n",
       "    </tr>\n",
       "    <tr>\n",
       "      <th>8</th>\n",
       "      <td>10209064330305224</td>\n",
       "      <td>Rosta Filar</td>\n",
       "      <td>ja chci tarif:  SMS zdarma a internet 1500MB z...</td>\n",
       "      <td>2014-01-13T16:20:36+0000</td>\n",
       "      <td>9</td>\n",
       "      <td>0</td>\n",
       "      <td>659919047380028_1983036</td>\n",
       "    </tr>\n",
       "    <tr>\n",
       "      <th>9</th>\n",
       "      <td>10202550788609056</td>\n",
       "      <td>Tomáš Tichý</td>\n",
       "      <td>K smichu...kdyz po 3 dnech mi prijde sms,ze uz...</td>\n",
       "      <td>2014-01-13T16:22:50+0000</td>\n",
       "      <td>3</td>\n",
       "      <td>0</td>\n",
       "      <td>659919047380028_1983040</td>\n",
       "    </tr>\n",
       "  </tbody>\n",
       "</table>\n",
       "</div>"
      ],
      "text/plain": [
       "             from_id          from_name  \\\n",
       "0   1655155837834881   Miroslav Pleskot   \n",
       "1   1103097663153070  Alena Matišcáková   \n",
       "2  10212111270199918      Tomáš Novotný   \n",
       "3   1423701194318386       Daniel Prell   \n",
       "4  10208934700671278       Tomáš Valder   \n",
       "5   1625346820813591     Martin Machata   \n",
       "6  10208495524245992       Jan Sedlácek   \n",
       "7   1119754194817221         Honza Vána   \n",
       "8  10209064330305224        Rosta Filar   \n",
       "9  10202550788609056        Tomáš Tichý   \n",
       "\n",
       "                                             message  \\\n",
       "0  FREE tarif bez internetu by se mi líbil daleko...   \n",
       "1        alespon neco, když už je to tak drahý... :D   \n",
       "2  Ehh to je fakt odvaz 1,5GB v dobe fullhd YouTu...   \n",
       "3  hm ješte kdyby to bylo tak za 400kc mesícne kd...   \n",
       "4          Lepší jak nic :) Dekuji za 0.5GB navíc :)   \n",
       "5                                      K smichu :)))   \n",
       "6                                           super:))   \n",
       "7  Super :-)  me by zajímalo kdy už bude LTE dost...   \n",
       "8  ja chci tarif:  SMS zdarma a internet 1500MB z...   \n",
       "9  K smichu...kdyz po 3 dnech mi prijde sms,ze uz...   \n",
       "\n",
       "               created_time  likes_count  comments_count  \\\n",
       "0  2014-01-13T16:06:49+0000            5               0   \n",
       "1  2014-01-13T16:08:19+0000            4               0   \n",
       "2  2014-01-13T16:08:32+0000           14               0   \n",
       "3  2014-01-13T16:09:41+0000            5               0   \n",
       "4  2014-01-13T16:12:20+0000            5               0   \n",
       "5  2014-01-13T16:14:55+0000            2               0   \n",
       "6  2014-01-13T16:15:26+0000            2               0   \n",
       "7  2014-01-13T16:16:19+0000            5               0   \n",
       "8  2014-01-13T16:20:36+0000            9               0   \n",
       "9  2014-01-13T16:22:50+0000            3               0   \n",
       "\n",
       "                        id  \n",
       "0  659919047380028_1982999  \n",
       "1  659919047380028_1983002  \n",
       "2  659919047380028_1983003  \n",
       "3  659919047380028_1983010  \n",
       "4  659919047380028_1983016  \n",
       "5  659919047380028_1983022  \n",
       "6  659919047380028_1983023  \n",
       "7  659919047380028_1983026  \n",
       "8  659919047380028_1983036  \n",
       "9  659919047380028_1983040  "
      ]
     },
     "execution_count": 247,
     "metadata": {},
     "output_type": "execute_result"
    }
   ],
   "source": [
    "o2 = pd.read_csv(\"Czechitas/commentsO2_clean.csv\", encoding = \"UTF-8\", sep=';')\n",
    "o2['message'] = o2['message'].fillna('a')\n",
    "X_o2 = count_vect.transform(o2['message'])\n",
    "o2_preds = clf.predict(X_o2)\n",
    "o2.head(10)\n",
    "# o2.to_csv('o2_sentiment10.csv', encoding='utf-8', sep=\";\")"
   ]
  },
  {
   "cell_type": "code",
   "execution_count": 224,
   "metadata": {
    "collapsed": false
   },
   "outputs": [
    {
     "ename": "SyntaxError",
     "evalue": "keyword can't be an expression (<ipython-input-224-c40fb129627b>, line 1)",
     "output_type": "error",
     "traceback": [
      "\u001b[0;36m  File \u001b[0;32m\"<ipython-input-224-c40fb129627b>\"\u001b[0;36m, line \u001b[0;32m1\u001b[0m\n\u001b[0;31m    o2_1 = pd.DataFrame(['operator']= 'o22' ,o2['created_time'], o2['message'], o2['likes_count'],\u001b[0m\n\u001b[0m                       ^\u001b[0m\n\u001b[0;31mSyntaxError\u001b[0m\u001b[0;31m:\u001b[0m keyword can't be an expression\n"
     ]
    }
   ],
   "source": [
    "o2_1 = pd.DataFrame(['operator']= 'o22' ,o2['created_time'], o2['message'], o2['likes_count'], \n",
    "                    o2['comments_count'], o2['prediction'])"
   ]
  },
  {
   "cell_type": "code",
   "execution_count": 225,
   "metadata": {
    "collapsed": false
   },
   "outputs": [],
   "source": [
    "o2_final = pd.DataFrame(o2, columns =['operator', 'created_time', 'message', 'likes_count', 'comments_count','prediction'])"
   ]
  },
  {
   "cell_type": "code",
   "execution_count": 228,
   "metadata": {
    "collapsed": false
   },
   "outputs": [
    {
     "data": {
      "text/html": [
       "<div>\n",
       "<table border=\"1\" class=\"dataframe\">\n",
       "  <thead>\n",
       "    <tr style=\"text-align: right;\">\n",
       "      <th></th>\n",
       "      <th>operator</th>\n",
       "      <th>created_time</th>\n",
       "      <th>message</th>\n",
       "      <th>likes_count</th>\n",
       "      <th>comments_count</th>\n",
       "      <th>prediction</th>\n",
       "    </tr>\n",
       "  </thead>\n",
       "  <tbody>\n",
       "    <tr>\n",
       "      <th>0</th>\n",
       "      <td>o2</td>\n",
       "      <td>2014-01-13T16:06:49+0000</td>\n",
       "      <td>FREE tarif bez internetu by se mi líbil daleko...</td>\n",
       "      <td>5</td>\n",
       "      <td>0</td>\n",
       "      <td>NaN</td>\n",
       "    </tr>\n",
       "    <tr>\n",
       "      <th>1</th>\n",
       "      <td>o2</td>\n",
       "      <td>2014-01-13T16:08:19+0000</td>\n",
       "      <td>alespon neco, když už je to tak drahý... :D</td>\n",
       "      <td>4</td>\n",
       "      <td>0</td>\n",
       "      <td>NaN</td>\n",
       "    </tr>\n",
       "    <tr>\n",
       "      <th>2</th>\n",
       "      <td>o2</td>\n",
       "      <td>2014-01-13T16:08:32+0000</td>\n",
       "      <td>Ehh to je fakt odvaz 1,5GB v dobe fullhd YouTu...</td>\n",
       "      <td>14</td>\n",
       "      <td>0</td>\n",
       "      <td>NaN</td>\n",
       "    </tr>\n",
       "    <tr>\n",
       "      <th>3</th>\n",
       "      <td>o2</td>\n",
       "      <td>2014-01-13T16:09:41+0000</td>\n",
       "      <td>hm ješte kdyby to bylo tak za 400kc mesícne kd...</td>\n",
       "      <td>5</td>\n",
       "      <td>0</td>\n",
       "      <td>NaN</td>\n",
       "    </tr>\n",
       "    <tr>\n",
       "      <th>4</th>\n",
       "      <td>o2</td>\n",
       "      <td>2014-01-13T16:12:20+0000</td>\n",
       "      <td>Lepší jak nic :) Dekuji za 0.5GB navíc :)</td>\n",
       "      <td>5</td>\n",
       "      <td>0</td>\n",
       "      <td>NaN</td>\n",
       "    </tr>\n",
       "    <tr>\n",
       "      <th>5</th>\n",
       "      <td>o2</td>\n",
       "      <td>2014-01-13T16:14:55+0000</td>\n",
       "      <td>K smichu :)))</td>\n",
       "      <td>2</td>\n",
       "      <td>0</td>\n",
       "      <td>NaN</td>\n",
       "    </tr>\n",
       "    <tr>\n",
       "      <th>6</th>\n",
       "      <td>o2</td>\n",
       "      <td>2014-01-13T16:15:26+0000</td>\n",
       "      <td>super:))</td>\n",
       "      <td>2</td>\n",
       "      <td>0</td>\n",
       "      <td>NaN</td>\n",
       "    </tr>\n",
       "    <tr>\n",
       "      <th>7</th>\n",
       "      <td>o2</td>\n",
       "      <td>2014-01-13T16:16:19+0000</td>\n",
       "      <td>Super :-)  me by zajímalo kdy už bude LTE dost...</td>\n",
       "      <td>5</td>\n",
       "      <td>0</td>\n",
       "      <td>NaN</td>\n",
       "    </tr>\n",
       "    <tr>\n",
       "      <th>8</th>\n",
       "      <td>o2</td>\n",
       "      <td>2014-01-13T16:20:36+0000</td>\n",
       "      <td>ja chci tarif:  SMS zdarma a internet 1500MB z...</td>\n",
       "      <td>9</td>\n",
       "      <td>0</td>\n",
       "      <td>NaN</td>\n",
       "    </tr>\n",
       "    <tr>\n",
       "      <th>9</th>\n",
       "      <td>o2</td>\n",
       "      <td>2014-01-13T16:22:50+0000</td>\n",
       "      <td>K smichu...kdyz po 3 dnech mi prijde sms,ze uz...</td>\n",
       "      <td>3</td>\n",
       "      <td>0</td>\n",
       "      <td>NaN</td>\n",
       "    </tr>\n",
       "  </tbody>\n",
       "</table>\n",
       "</div>"
      ],
      "text/plain": [
       "  operator              created_time  \\\n",
       "0       o2  2014-01-13T16:06:49+0000   \n",
       "1       o2  2014-01-13T16:08:19+0000   \n",
       "2       o2  2014-01-13T16:08:32+0000   \n",
       "3       o2  2014-01-13T16:09:41+0000   \n",
       "4       o2  2014-01-13T16:12:20+0000   \n",
       "5       o2  2014-01-13T16:14:55+0000   \n",
       "6       o2  2014-01-13T16:15:26+0000   \n",
       "7       o2  2014-01-13T16:16:19+0000   \n",
       "8       o2  2014-01-13T16:20:36+0000   \n",
       "9       o2  2014-01-13T16:22:50+0000   \n",
       "\n",
       "                                             message  likes_count  \\\n",
       "0  FREE tarif bez internetu by se mi líbil daleko...            5   \n",
       "1        alespon neco, když už je to tak drahý... :D            4   \n",
       "2  Ehh to je fakt odvaz 1,5GB v dobe fullhd YouTu...           14   \n",
       "3  hm ješte kdyby to bylo tak za 400kc mesícne kd...            5   \n",
       "4          Lepší jak nic :) Dekuji za 0.5GB navíc :)            5   \n",
       "5                                      K smichu :)))            2   \n",
       "6                                           super:))            2   \n",
       "7  Super :-)  me by zajímalo kdy už bude LTE dost...            5   \n",
       "8  ja chci tarif:  SMS zdarma a internet 1500MB z...            9   \n",
       "9  K smichu...kdyz po 3 dnech mi prijde sms,ze uz...            3   \n",
       "\n",
       "   comments_count  prediction  \n",
       "0               0         NaN  \n",
       "1               0         NaN  \n",
       "2               0         NaN  \n",
       "3               0         NaN  \n",
       "4               0         NaN  \n",
       "5               0         NaN  \n",
       "6               0         NaN  \n",
       "7               0         NaN  \n",
       "8               0         NaN  \n",
       "9               0         NaN  "
      ]
     },
     "execution_count": 228,
     "metadata": {},
     "output_type": "execute_result"
    }
   ],
   "source": [
    "o2_final['operator'] = 'o2'\n",
    "o2_final.head(10)"
   ]
  },
  {
   "cell_type": "code",
   "execution_count": 227,
   "metadata": {
    "collapsed": false
   },
   "outputs": [
    {
     "data": {
      "text/html": [
       "<div>\n",
       "<table border=\"1\" class=\"dataframe\">\n",
       "  <thead>\n",
       "    <tr style=\"text-align: right;\">\n",
       "      <th></th>\n",
       "      <th>from_id</th>\n",
       "      <th>from_name</th>\n",
       "      <th>message</th>\n",
       "      <th>created_time</th>\n",
       "      <th>likes_count</th>\n",
       "      <th>comments_count</th>\n",
       "      <th>id</th>\n",
       "    </tr>\n",
       "  </thead>\n",
       "  <tbody>\n",
       "    <tr>\n",
       "      <th>0</th>\n",
       "      <td>1655155837834881</td>\n",
       "      <td>Miroslav Pleskot</td>\n",
       "      <td>FREE tarif bez internetu by se mi líbil daleko...</td>\n",
       "      <td>2014-01-13T16:06:49+0000</td>\n",
       "      <td>5</td>\n",
       "      <td>0</td>\n",
       "      <td>659919047380028_1982999</td>\n",
       "    </tr>\n",
       "    <tr>\n",
       "      <th>1</th>\n",
       "      <td>1103097663153070</td>\n",
       "      <td>Alena Matišcáková</td>\n",
       "      <td>alespon neco, když už je to tak drahý... :D</td>\n",
       "      <td>2014-01-13T16:08:19+0000</td>\n",
       "      <td>4</td>\n",
       "      <td>0</td>\n",
       "      <td>659919047380028_1983002</td>\n",
       "    </tr>\n",
       "    <tr>\n",
       "      <th>2</th>\n",
       "      <td>10212111270199918</td>\n",
       "      <td>Tomáš Novotný</td>\n",
       "      <td>Ehh to je fakt odvaz 1,5GB v dobe fullhd YouTu...</td>\n",
       "      <td>2014-01-13T16:08:32+0000</td>\n",
       "      <td>14</td>\n",
       "      <td>0</td>\n",
       "      <td>659919047380028_1983003</td>\n",
       "    </tr>\n",
       "    <tr>\n",
       "      <th>3</th>\n",
       "      <td>1423701194318386</td>\n",
       "      <td>Daniel Prell</td>\n",
       "      <td>hm ješte kdyby to bylo tak za 400kc mesícne kd...</td>\n",
       "      <td>2014-01-13T16:09:41+0000</td>\n",
       "      <td>5</td>\n",
       "      <td>0</td>\n",
       "      <td>659919047380028_1983010</td>\n",
       "    </tr>\n",
       "    <tr>\n",
       "      <th>4</th>\n",
       "      <td>10208934700671278</td>\n",
       "      <td>Tomáš Valder</td>\n",
       "      <td>Lepší jak nic :) Dekuji za 0.5GB navíc :)</td>\n",
       "      <td>2014-01-13T16:12:20+0000</td>\n",
       "      <td>5</td>\n",
       "      <td>0</td>\n",
       "      <td>659919047380028_1983016</td>\n",
       "    </tr>\n",
       "    <tr>\n",
       "      <th>5</th>\n",
       "      <td>1625346820813591</td>\n",
       "      <td>Martin Machata</td>\n",
       "      <td>K smichu :)))</td>\n",
       "      <td>2014-01-13T16:14:55+0000</td>\n",
       "      <td>2</td>\n",
       "      <td>0</td>\n",
       "      <td>659919047380028_1983022</td>\n",
       "    </tr>\n",
       "    <tr>\n",
       "      <th>6</th>\n",
       "      <td>10208495524245992</td>\n",
       "      <td>Jan Sedlácek</td>\n",
       "      <td>super:))</td>\n",
       "      <td>2014-01-13T16:15:26+0000</td>\n",
       "      <td>2</td>\n",
       "      <td>0</td>\n",
       "      <td>659919047380028_1983023</td>\n",
       "    </tr>\n",
       "    <tr>\n",
       "      <th>7</th>\n",
       "      <td>1119754194817221</td>\n",
       "      <td>Honza Vána</td>\n",
       "      <td>Super :-)  me by zajímalo kdy už bude LTE dost...</td>\n",
       "      <td>2014-01-13T16:16:19+0000</td>\n",
       "      <td>5</td>\n",
       "      <td>0</td>\n",
       "      <td>659919047380028_1983026</td>\n",
       "    </tr>\n",
       "    <tr>\n",
       "      <th>8</th>\n",
       "      <td>10209064330305224</td>\n",
       "      <td>Rosta Filar</td>\n",
       "      <td>ja chci tarif:  SMS zdarma a internet 1500MB z...</td>\n",
       "      <td>2014-01-13T16:20:36+0000</td>\n",
       "      <td>9</td>\n",
       "      <td>0</td>\n",
       "      <td>659919047380028_1983036</td>\n",
       "    </tr>\n",
       "    <tr>\n",
       "      <th>9</th>\n",
       "      <td>10202550788609056</td>\n",
       "      <td>Tomáš Tichý</td>\n",
       "      <td>K smichu...kdyz po 3 dnech mi prijde sms,ze uz...</td>\n",
       "      <td>2014-01-13T16:22:50+0000</td>\n",
       "      <td>3</td>\n",
       "      <td>0</td>\n",
       "      <td>659919047380028_1983040</td>\n",
       "    </tr>\n",
       "  </tbody>\n",
       "</table>\n",
       "</div>"
      ],
      "text/plain": [
       "             from_id          from_name  \\\n",
       "0   1655155837834881   Miroslav Pleskot   \n",
       "1   1103097663153070  Alena Matišcáková   \n",
       "2  10212111270199918      Tomáš Novotný   \n",
       "3   1423701194318386       Daniel Prell   \n",
       "4  10208934700671278       Tomáš Valder   \n",
       "5   1625346820813591     Martin Machata   \n",
       "6  10208495524245992       Jan Sedlácek   \n",
       "7   1119754194817221         Honza Vána   \n",
       "8  10209064330305224        Rosta Filar   \n",
       "9  10202550788609056        Tomáš Tichý   \n",
       "\n",
       "                                             message  \\\n",
       "0  FREE tarif bez internetu by se mi líbil daleko...   \n",
       "1        alespon neco, když už je to tak drahý... :D   \n",
       "2  Ehh to je fakt odvaz 1,5GB v dobe fullhd YouTu...   \n",
       "3  hm ješte kdyby to bylo tak za 400kc mesícne kd...   \n",
       "4          Lepší jak nic :) Dekuji za 0.5GB navíc :)   \n",
       "5                                      K smichu :)))   \n",
       "6                                           super:))   \n",
       "7  Super :-)  me by zajímalo kdy už bude LTE dost...   \n",
       "8  ja chci tarif:  SMS zdarma a internet 1500MB z...   \n",
       "9  K smichu...kdyz po 3 dnech mi prijde sms,ze uz...   \n",
       "\n",
       "               created_time  likes_count  comments_count  \\\n",
       "0  2014-01-13T16:06:49+0000            5               0   \n",
       "1  2014-01-13T16:08:19+0000            4               0   \n",
       "2  2014-01-13T16:08:32+0000           14               0   \n",
       "3  2014-01-13T16:09:41+0000            5               0   \n",
       "4  2014-01-13T16:12:20+0000            5               0   \n",
       "5  2014-01-13T16:14:55+0000            2               0   \n",
       "6  2014-01-13T16:15:26+0000            2               0   \n",
       "7  2014-01-13T16:16:19+0000            5               0   \n",
       "8  2014-01-13T16:20:36+0000            9               0   \n",
       "9  2014-01-13T16:22:50+0000            3               0   \n",
       "\n",
       "                        id  \n",
       "0  659919047380028_1982999  \n",
       "1  659919047380028_1983002  \n",
       "2  659919047380028_1983003  \n",
       "3  659919047380028_1983010  \n",
       "4  659919047380028_1983016  \n",
       "5  659919047380028_1983022  \n",
       "6  659919047380028_1983023  \n",
       "7  659919047380028_1983026  \n",
       "8  659919047380028_1983036  \n",
       "9  659919047380028_1983040  "
      ]
     },
     "execution_count": 227,
     "metadata": {},
     "output_type": "execute_result"
    }
   ],
   "source": [
    "o2.head(10)"
   ]
  },
  {
   "cell_type": "code",
   "execution_count": null,
   "metadata": {
    "collapsed": true
   },
   "outputs": [],
   "source": []
  }
 ],
 "metadata": {
  "kernelspec": {
   "display_name": "Python 3",
   "language": "python",
   "name": "python3"
  },
  "language_info": {
   "codemirror_mode": {
    "name": "ipython",
    "version": 3
   },
   "file_extension": ".py",
   "mimetype": "text/x-python",
   "name": "python",
   "nbconvert_exporter": "python",
   "pygments_lexer": "ipython3",
   "version": "3.6.0"
  }
 },
 "nbformat": 4,
 "nbformat_minor": 2
}
